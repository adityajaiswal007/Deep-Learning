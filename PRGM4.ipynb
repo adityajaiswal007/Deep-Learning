{
 "cells": [
  {
   "cell_type": "code",
   "execution_count": 1,
   "metadata": {},
   "outputs": [],
   "source": [
    "import numpy as np"
   ]
  },
  {
   "cell_type": "code",
   "execution_count": 8,
   "metadata": {},
   "outputs": [],
   "source": [
    "x=np.array(([2,9],[1,5],[3,6]),dtype=float)\n",
    "y=np.array(([92],[86],[89]),dtype=float)\n",
    "x=x/np.amax(x,axis=0)\n",
    "y=y/100"
   ]
  },
  {
   "cell_type": "code",
   "execution_count": 9,
   "metadata": {},
   "outputs": [],
   "source": [
    "def sigmoid(x):\n",
    "    return 1/(1+np.exp(-x))\n",
    "def sigmoid_grad(x):\n",
    "    return x*(1-x)"
   ]
  },
  {
   "cell_type": "code",
   "execution_count": 10,
   "metadata": {},
   "outputs": [],
   "source": [
    "epoch=1000\n",
    "eta=0.2\n",
    "input_neurons=2\n",
    "hidden_neurons=3\n",
    "output_neurons=1"
   ]
  },
  {
   "cell_type": "code",
   "execution_count": 11,
   "metadata": {},
   "outputs": [],
   "source": [
    "wh=np.random.uniform(size=(input_neurons,hidden_neurons))\n",
    "bh=np.random.uniform(size=(1,hidden_neurons))\n",
    "wout=np.random.uniform(size=(hidden_neurons,output_neurons))\n",
    "bout=np.random.uniform(size=(1,output_neurons))"
   ]
  },
  {
   "cell_type": "code",
   "execution_count": 12,
   "metadata": {},
   "outputs": [],
   "source": [
    "for i in range(epoch):\n",
    "    h_ip=np.dot(x,wh)+bh\n",
    "    h_act=sigmoid(h_ip)\n",
    "    o_ip=np.dot(h_act,wout)+bout\n",
    "    output=sigmoid(o_ip)\n",
    "    \n",
    "    eo=y-output\n",
    "    outgrad=sigmoid_grad(output)\n",
    "    d_output=eo*outgrad\n",
    "    wout+=h_act.T.dot(d_output)*eta\n",
    "    \n",
    "    eh=d_output.dot(wout.T)\n",
    "    hiddengrad=sigmoid_grad(h_act)\n",
    "    d_hidden=eh*hiddengrad\n",
    "    wh+=x.T.dot(d_hidden)*eta"
   ]
  },
  {
   "cell_type": "code",
   "execution_count": 13,
   "metadata": {},
   "outputs": [
    {
     "name": "stdout",
     "output_type": "stream",
     "text": [
      "NORMALISED INPUT:\n",
      "[[0.66666667 1.        ]\n",
      " [0.33333333 0.55555556]\n",
      " [1.         0.66666667]]\n",
      "ACTUAL OUTPUT:\n",
      "[[0.92]\n",
      " [0.86]\n",
      " [0.89]]\n",
      "PREDICTED OUTPUT:\n",
      " [[0.89582697]\n",
      " [0.87827367]\n",
      " [0.89520434]]\n"
     ]
    }
   ],
   "source": [
    "print(\"NORMALISED INPUT:\\n\"+str(x))\n",
    "print(\"ACTUAL OUTPUT:\\n\"+str(y))\n",
    "print(\"PREDICTED OUTPUT:\\n\",output)"
   ]
  },
  {
   "cell_type": "code",
   "execution_count": null,
   "metadata": {},
   "outputs": [],
   "source": []
  }
 ],
 "metadata": {
  "kernelspec": {
   "display_name": "Python 3",
   "language": "python",
   "name": "python3"
  },
  "language_info": {
   "codemirror_mode": {
    "name": "ipython",
    "version": 3
   },
   "file_extension": ".py",
   "mimetype": "text/x-python",
   "name": "python",
   "nbconvert_exporter": "python",
   "pygments_lexer": "ipython3",
   "version": "3.7.2"
  }
 },
 "nbformat": 4,
 "nbformat_minor": 2
}
