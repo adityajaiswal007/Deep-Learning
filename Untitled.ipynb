{
 "cells": [
  {
   "cell_type": "code",
   "execution_count": 98,
   "metadata": {},
   "outputs": [],
   "source": [
    "import numpy as np\n",
    "import pandas as pd"
   ]
  },
  {
   "cell_type": "code",
   "execution_count": 39,
   "metadata": {},
   "outputs": [],
   "source": [
    "def model1(dataset, target):\n",
    "    specific_h = [0,0,0,0,0,0]\n",
    "    print(dataset[0][0])\n",
    "    for i in range(len(target)):\n",
    "        if target[i] == 'yes':\n",
    "            for j in range(len(dataset[i])):\n",
    "                print(j)\n",
    "                if specific_h[j] == 0:\n",
    "                    specific_h[j] = dataset[i][j]\n",
    "                elif specific_h[j] != dataset[i][j]:\n",
    "                    specific_h[j] = \"?\"\n",
    "                else:\n",
    "                    specific_h[j] = dataset[i][j]\n",
    "    return specific_h \n",
    "data = pd.read_csv(\"pg1.csv\")\n",
    "result = model(X[:,:-1], y)\n",
    "print(result)"
   ]
  },
  {
   "cell_type": "code",
   "execution_count": 97,
   "metadata": {},
   "outputs": [
    {
     "name": "stdout",
     "output_type": "stream",
     "text": [
      "3 6\n",
      "[['?', '?', '?', '?', '?', '?'], ['?', '?', '?', '?', '?', '?'], ['?', '?', '?', '?', '?', '?'], ['?', '?', '?', '?', '?', '?'], ['?', '?', '?', '?', '?', '?'], ['?', '?', '?', '?', '?', '?']]\n",
      "0\n",
      "1\n",
      "2\n",
      "3\n",
      "4\n",
      "[['sunny', '?', '?', '?', '?', '?'], ['?', 'warm', '?', '?', '?', '?'], ['?', '?', '?', '?', '?', '?'], ['?', '?', '?', '?', '?', '?'], ['?', '?', '?', '?', '?', '?'], ['?', '?', '?', '?', '?', '?']]\n",
      "['sunny' 'warm' 'high' 'strong' '?' 'same']\n"
     ]
    }
   ],
   "source": [
    "def model2(dataset, target):\n",
    "    s = dataset[0]\n",
    "    row = len(dataset)    \n",
    "    col = len(dataset[0])\n",
    "    print(row, col)\n",
    "    g = [[\"?\"] * col for i in range(col)]\n",
    "    print(g)\n",
    "    for i in range(len(target)):\n",
    "        if target[i] == 'Y':\n",
    "            for j in range(len(dataset[i][0])):\n",
    "                if s[j] != dataset[i][j]:\n",
    "                    s[j] = \"?\"\n",
    "                    g[j][j] = '?'\n",
    "        else:\n",
    "            for j in range(len(dataset[i][0])):\n",
    "                if s[j] != dataset[i][j]:\n",
    "                    g[j][j] = s[j]\n",
    "                else:\n",
    "                    g[i][j] = '?'\n",
    "    index = [i for i,row in enumerate(g) if row == [\"?\", '?', '?', '?', '?', '?']]\n",
    "    print(g)\n",
    "    for i in index:\n",
    "        g.remove([\"?\", '?', '?', '?', '?', '?'])\n",
    "    print(s)\n",
    "    return g\n",
    "\n",
    "dataset = pd.read_csv(\"pg2b.csv\")\n",
    "print(dataset)\n",
    "dataset = np.array(dataset)\n",
    "\n",
    "result = model2(dataset[:,:-1], dataset[:,-1])"
   ]
  },
  {
   "cell_type": "code",
   "execution_count": 129,
   "metadata": {},
   "outputs": [
    {
     "name": "stdout",
     "output_type": "stream",
     "text": [
      "              precision    recall  f1-score   support\n",
      "\n",
      "           0       1.00      1.00      1.00         8\n",
      "           1       0.92      1.00      0.96        11\n",
      "           2       1.00      0.91      0.95        11\n",
      "\n",
      "    accuracy                           0.97        30\n",
      "   macro avg       0.97      0.97      0.97        30\n",
      "weighted avg       0.97      0.97      0.97        30\n",
      "\n"
     ]
    }
   ],
   "source": [
    "from sklearn.model_selection import train_test_split\n",
    "\n",
    "from sklearn import datasets\n",
    "from sklearn.neighbors import KNeighborsClassifier\n",
    "\n",
    "from sklearn.metrics import confusion_matrix, classification_report\n",
    "\n",
    "iris = datasets.load_iris()\n",
    "\n",
    "x_train, x_test, y_train, y_test = train_test_split(iris.data, iris.target, test_size = 0.2)\n",
    "\n",
    "model = KNeighborsClassifier(n_neighbors = 1)\n",
    "\n",
    "model.fit(x_train, y_train)\n",
    "\n",
    "predicted = model.predict(x_test)\n",
    "\n",
    "print(model.score(x_test, y_test))\n",
    "\n",
    "confusion_matrix(y_test, predicted)\n",
    "print(classification_report(y_test, predicted))"
   ]
  },
  {
   "cell_type": "code",
   "execution_count": 151,
   "metadata": {},
   "outputs": [
    {
     "name": "stdout",
     "output_type": "stream",
     "text": [
      "[[0.89227629]\n",
      " [0.88725339]\n",
      " [0.89079684]]\n"
     ]
    }
   ],
   "source": [
    "X = np.array(([2,9],[1,5],[3,6]), dtype = float)\n",
    "y = np.array(([92],[86],[89]), dtype = float)\n",
    "\n",
    "y = y/100\n",
    "X = X/np.amax(X, axis = 0)\n",
    "\n",
    "def sigmoid(value):\n",
    "    return 1/(1 + np.exp(-value))\n",
    "\n",
    "def grad_sig(value):\n",
    "    return value * (1-value)\n",
    "\n",
    "input_n = 2\n",
    "hidden_n = 3\n",
    "output_n = 1\n",
    "epoch = 1000\n",
    "lr = 0.2\n",
    "\n",
    "wh = np.random.uniform(size=(input_n, hidden_n))\n",
    "bh = np.random.uniform(size = (1, hidden_n))\n",
    "wo = np.random.uniform(size = (hidden_n, output_n))\n",
    "bo = np.random.uniform(size = (1, output_n))\n",
    "\n",
    "for i in range(epoch):\n",
    "    hidden = np.dot(X, wh) + bh\n",
    "    hidden_act = sigmoid(hidden)\n",
    "    output = np.dot(hidden_act, wo) + bo\n",
    "    output_act = sigmoid(output)\n",
    "    error = y - output_act\n",
    "    outgrad = grad_sig(output_act)\n",
    "    d_wo = error * outgrad\n",
    "    \n",
    "    eh = d_wo.dot(wo.T)\n",
    "    hidgrad = grad_sig(hidden_act)\n",
    "    d_h = eh*hidgrad\n",
    "    \n",
    "    wo += hidden_act.T.dot(d_wo) * lr\n",
    "    wh += X.T.dot(d_h) * lr\n",
    "\n",
    "print(output_act)"
   ]
  },
  {
   "cell_type": "code",
   "execution_count": 214,
   "metadata": {},
   "outputs": [
    {
     "name": "stdout",
     "output_type": "stream",
     "text": [
      "13\n",
      "5\n",
      "43\n",
      "I love this sandwich -> pos \n",
      "This is my best work -> neg \n",
      "My boss is horrible -> neg \n",
      "I can't deal with this -> neg \n",
      "I feel very good about these beers -> pos \n",
      "[[2 0]\n",
      " [1 2]]\n",
      "0.6666666666666666\n",
      "1.0\n",
      "0.8\n"
     ]
    }
   ],
   "source": [
    "dataset = pd.read_csv(\"pg6.csv\", names=['name', 'label'])\n",
    "\n",
    "dataset['labelnum'] = dataset.label.map({'pos':1 ,'neg':0})\n",
    "\n",
    "from sklearn.model_selection import train_test_split\n",
    "\n",
    "x_train, x_test, y_train, y_test = train_test_split(dataset.name, dataset.labelnum)\n",
    "\n",
    "from sklearn.feature_extraction.text import CountVectorizer\n",
    "\n",
    "model = CountVectorizer()\n",
    "xtrain = model.fit_transform(x_train)\n",
    "\n",
    "xtest = model.transform(x_test)\n",
    "print(xtrain.shape[1])\n",
    "\n",
    "from sklearn.naive_bayes import MultinomialNB\n",
    "\n",
    "nb = MultinomialNB().fit(xtrain, y_train)\n",
    "\n",
    "predicted = nb.predict(xtest)\n",
    "\n",
    "from sklearn import metrics\n",
    "for doc, p in zip(x_test, predicted):\n",
    "    pred = 'pos' if p==1 else 'neg'\n",
    "    print('%s -> %s ' % (doc, pred))\n",
    "\n",
    "print(metrics.confusion_matrix(y_test, predicted))\n",
    "\n",
    "print(metrics.recall_score(y_test, predicted))\n",
    "\n",
    "print(metrics.precision_score(y_test, predicted))\n",
    "\n",
    "print(metrics.accuracy_score(y_test, predicted))"
   ]
  },
  {
   "cell_type": "code",
   "execution_count": 239,
   "metadata": {},
   "outputs": [
    {
     "name": "stderr",
     "output_type": "stream",
     "text": [
      "Finding Elimination Order: : 100%|█████████████████████████████████████████████████████| 6/6 [00:00<00:00, 3011.71it/s]\n",
      "Eliminating: restecg: 100%|█████████████████████████████████████████████████████████████| 6/6 [00:00<00:00, 429.79it/s]\n"
     ]
    },
    {
     "name": "stdout",
     "output_type": "stream",
     "text": [
      "+-----------------+---------------------+\n",
      "| heartdisease    |   phi(heartdisease) |\n",
      "+=================+=====================+\n",
      "| heartdisease(0) |              0.5386 |\n",
      "+-----------------+---------------------+\n",
      "| heartdisease(1) |              0.1735 |\n",
      "+-----------------+---------------------+\n",
      "| heartdisease(2) |              0.1258 |\n",
      "+-----------------+---------------------+\n",
      "| heartdisease(3) |              0.1209 |\n",
      "+-----------------+---------------------+\n",
      "| heartdisease(4) |              0.0411 |\n",
      "+-----------------+---------------------+\n"
     ]
    },
    {
     "name": "stderr",
     "output_type": "stream",
     "text": [
      "Finding Elimination Order: : 100%|█████████████████████████████████████████████████████| 6/6 [00:00<00:00, 3013.51it/s]\n",
      "Eliminating: restecg: 100%|█████████████████████████████████████████████████████████████| 6/6 [00:00<00:00, 353.89it/s]\n"
     ]
    },
    {
     "name": "stdout",
     "output_type": "stream",
     "text": [
      "+-----------------+---------------------+\n",
      "| heartdisease    |   phi(heartdisease) |\n",
      "+=================+=====================+\n",
      "| heartdisease(0) |              0.7500 |\n",
      "+-----------------+---------------------+\n",
      "| heartdisease(1) |              0.2500 |\n",
      "+-----------------+---------------------+\n",
      "| heartdisease(2) |              0.0000 |\n",
      "+-----------------+---------------------+\n",
      "| heartdisease(3) |              0.0000 |\n",
      "+-----------------+---------------------+\n",
      "| heartdisease(4) |              0.0000 |\n",
      "+-----------------+---------------------+\n"
     ]
    }
   ],
   "source": [
    "import csv\n",
    "from pgmpy.estimators import  MaximumLikelihoodEstimator\n",
    "from pgmpy.models import BayesianModel\n",
    "from pgmpy.inference import VariableElimination\n",
    "\n",
    "hd = list(csv.reader(open(\"pg7b.csv\", 'r')))\n",
    "print(hd[0])\n",
    "hd = pd.read_csv('pg7a.csv', names=hd[0])\n",
    "\n",
    "print(hd.head())\n",
    "\n",
    "model=BayesianModel([('age','fbs'),('exang','trestbps'),('fbs','heartdisease'),('heartdisease','restecg'),('heartdisease','restecg'),('heartdisease','thalach'),('heartdisease','chol')])\n",
    "model.fit(hd, estimator = MaximumLikelihoodEstimator)\n",
    "\n",
    "hdi = VariableElimination(model)\n",
    "q = hdi.query(variables=['heartdisease'], evidence = {'age': 63})\n",
    "print(q)\n",
    "q = hdi.query(variables=['heartdisease'], evidence = {'chol': 233})\n",
    "print(q)"
   ]
  },
  {
   "cell_type": "code",
   "execution_count": 284,
   "metadata": {},
   "outputs": [
    {
     "data": {
      "image/png": "[encoded data removed]",
      "text/plain": [
       "<Figure size 432x288 with 1 Axes>"
      ]
     },
     "metadata": {
      "needs_background": "light"
     },
     "output_type": "display_data"
    },
    {
     "data": {
      "image/png": "[encoded data removed]",
      "text/plain": [
       "<Figure size 432x288 with 1 Axes>"
      ]
     },
     "metadata": {
      "needs_background": "light"
     },
     "output_type": "display_data"
    },
    {
     "data": {
      "text/plain": [
       "<function matplotlib.pyplot.show(*args, **kw)>"
      ]
     },
     "execution_count": 284,
     "metadata": {},
     "output_type": "execute_result"
    },
    {
     "data": {
      "image/png": "[encoded data removed]",
      "text/plain": [
       "<Figure size 432x288 with 1 Axes>"
      ]
     },
     "metadata": {
      "needs_background": "light"
     },
     "output_type": "display_data"
    }
   ],
   "source": [
    "import matplotlib.pyplot as plt\n",
    "\n",
    "from sklearn import datasets\n",
    "from sklearn.cluster import KMeans\n",
    "\n",
    "x = datasets.load_iris()\n",
    "data = pd.DataFrame(x.data)\n",
    "\n",
    "data.columns = ['sepal_length', 'sepal_width', 'petal_length', 'petal_width']\n",
    "\n",
    "target = pd.DataFrame(x.target)\n",
    "target.columns = ['target']\n",
    "\n",
    "model = KMeans(n_clusters = 3)\n",
    "model.fit(data)\n",
    "\n",
    "plt.subplot(2,2,1)\n",
    "color = np.array(['red', 'blue', 'green'])\n",
    "plt.scatter(data.petal_length, data.petal_width, c = color[target.target], s=40)\n",
    "plt.title(\"real\")\n",
    "plt.xlabel('petel_length')\n",
    "plt.ylabel('petel_width')\n",
    "plt.show()\n",
    "\n",
    "plt.subplot(2,2,2)\n",
    "color = np.array(['red', 'blue', 'green'])\n",
    "plt.scatter(data.petal_length, data.petal_width, c = color[model.labels_], s=40)\n",
    "plt.title(\"real\")\n",
    "plt.xlabel('petel_length')\n",
    "plt.ylabel('petel_width')\n",
    "plt.show()\n",
    "\n",
    "from sklearn import preprocessing\n",
    "scalar = preprocessing.StandardScaler()\n",
    "\n",
    "scalar.fit(data)\n",
    "\n",
    "xsa = scalar.transform(data)\n",
    "\n",
    "xs = pd.DataFrame(xsa, columns = data.columns)\n",
    "\n",
    "from sklearn.mixture import GaussianMixture\n",
    "\n",
    "gmm = GaussianMixture(n_components = 3)\n",
    "\n",
    "gmm.fit(xs)\n",
    "predict = gmm.predict(xs)\n",
    "\n",
    "plt.subplot(2,2,3)\n",
    "plt.scatter(data.petal_length, data.petal_width, c = color[predict], s=40)\n",
    "plt.title(\"GMM\")\n",
    "plt.xlabel(\"petal length\")\n",
    "plt.ylabel(\"petal width\")\n",
    "plt.show()"
   ]
  },
  {
   "cell_type": "code",
   "execution_count": 286,
   "metadata": {},
   "outputs": [
    {
     "name": "stdout",
     "output_type": "stream",
     "text": [
      "   total_bill   tip     sex smoker  day    time  size\n",
      "0       16.99  1.01  Female     No  Sun  Dinner     2\n",
      "1       10.34  1.66    Male     No  Sun  Dinner     3\n",
      "2       21.01  3.50    Male     No  Sun  Dinner     3\n",
      "3       23.68  3.31    Male     No  Sun  Dinner     2\n",
      "4       24.59  3.61  Female     No  Sun  Dinner     4\n"
     ]
    }
   ],
   "source": [
    "data = pd.read_csv('pg10.csv')\n",
    "print(data.head())\n",
    "bill = np.array(data.total_bill)"
   ]
  },
  {
   "cell_type": "code",
   "execution_count": 291,
   "metadata": {},
   "outputs": [
    {
     "name": "stdout",
     "output_type": "stream",
     "text": [
      "244\n"
     ]
    }
   ],
   "source": [
    "tip = np.array(data.tip)\n",
    "print(len(tip))"
   ]
  },
  {
   "cell_type": "code",
   "execution_count": 289,
   "metadata": {},
   "outputs": [],
   "source": [
    "mtip = np.mat(tip)\n",
    "mbill = np.mat(bill)"
   ]
  },
  {
   "cell_type": "code",
   "execution_count": 293,
   "metadata": {},
   "outputs": [],
   "source": [
    "m = np.shape(mbill)[1]"
   ]
  },
  {
   "cell_type": "code",
   "execution_count": 294,
   "metadata": {},
   "outputs": [],
   "source": [
    "one = np.mat(np.ones(m))"
   ]
  },
  {
   "cell_type": "code",
   "execution_count": 296,
   "metadata": {},
   "outputs": [],
   "source": [
    "X = np.hstack((one.T, mbill.T))"
   ]
  },
  {
   "cell_type": "code",
   "execution_count": 300,
   "metadata": {},
   "outputs": [
    {
     "ename": "NameError",
     "evalue": "name 'localweightregression' is not defined",
     "output_type": "error",
     "traceback": [
      "\u001b[1;31m---------------------------------------------------------------------------\u001b[0m",
      "\u001b[1;31mNameError\u001b[0m                                 Traceback (most recent call last)",
      "\u001b[1;32m<ipython-input-300-df1e5c69744c>\u001b[0m in \u001b[0;36m<module>\u001b[1;34m\u001b[0m\n\u001b[1;32m----> 1\u001b[1;33m \u001b[0mypred\u001b[0m \u001b[1;33m=\u001b[0m \u001b[0mlocalweightregression\u001b[0m\u001b[1;33m(\u001b[0m\u001b[0mX\u001b[0m\u001b[1;33m,\u001b[0m \u001b[0mmtip\u001b[0m\u001b[1;33m,\u001b[0m \u001b[1;36m3\u001b[0m\u001b[1;33m)\u001b[0m\u001b[1;33m\u001b[0m\u001b[1;33m\u001b[0m\u001b[0m\n\u001b[0m",
      "\u001b[1;31mNameError\u001b[0m: name 'localweightregression' is not defined"
     ]
    }
   ],
   "source": [
    "ypred = localweightregression(X, mtip, 3)"
   ]
  },
  {
   "cell_type": "code",
   "execution_count": 303,
   "metadata": {},
   "outputs": [],
   "source": [
    "w = np.mat(np.eye((5)))"
   ]
  },
  {
   "cell_type": "code",
   "execution_count": 305,
   "metadata": {},
   "outputs": [
    {
     "name": "stdout",
     "output_type": "stream",
     "text": [
      "0.0\n"
     ]
    }
   ],
   "source": [
    "print(w[1,0])"
   ]
  },
  {
   "cell_type": "code",
   "execution_count": null,
   "metadata": {},
   "outputs": [],
   "source": []
  }
 ],
 "metadata": {
  "kernelspec": {
   "display_name": "Python 3",
   "language": "python",
   "name": "python3"
  },
  "language_info": {
   "codemirror_mode": {
    "name": "ipython",
    "version": 3
   },
   "file_extension": ".py",
   "mimetype": "text/x-python",
   "name": "python",
   "nbconvert_exporter": "python",
   "pygments_lexer": "ipython3",
   "version": "3.7.2"
  }
 },
 "nbformat": 4,
 "nbformat_minor": 2
}
