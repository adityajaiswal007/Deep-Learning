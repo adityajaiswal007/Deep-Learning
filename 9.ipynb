{
 "cells": [
  {
   "cell_type": "code",
   "execution_count": 38,
   "metadata": {},
   "outputs": [],
   "source": [
    "from sklearn.model_selection import train_test_split\n",
    "from sklearn.neighbors import KNeighborsClassifier\n",
    "from sklearn import datasets\n",
    "iris=datasets.load_iris()"
   ]
  },
  {
   "cell_type": "code",
   "execution_count": 39,
   "metadata": {},
   "outputs": [
    {
     "name": "stdout",
     "output_type": "stream",
     "text": [
      "Iris Dataset loaded...\n"
     ]
    }
   ],
   "source": [
    "print(\"Iris Dataset loaded...\")\n"
   ]
  },
  {
   "cell_type": "code",
   "execution_count": 40,
   "metadata": {},
   "outputs": [],
   "source": [
    "x_train,x_test,y_train,y_test=train_test_split(iris.data,iris.target,test_size=0.1)\n"
   ]
  },
  {
   "cell_type": "code",
   "execution_count": 41,
   "metadata": {},
   "outputs": [
    {
     "name": "stdout",
     "output_type": "stream",
     "text": [
      "Dataset is split into training and testing..\n",
      "Size of training data and its label (135, 4) (135,)\n",
      "Size of tseting data and its label (15, 4) (15,)\n"
     ]
    }
   ],
   "source": [
    "print(\"Dataset is split into training and testing..\")\n",
    "print(\"Size of training data and its label\",x_train.shape,y_train.shape)\n",
    "print(\"Size of tseting data and its label\",x_test.shape,y_test.shape)\n"
   ]
  },
  {
   "cell_type": "code",
   "execution_count": 42,
   "metadata": {},
   "outputs": [
    {
     "name": "stdout",
     "output_type": "stream",
     "text": [
      "Label 0 - setosa\n",
      "Label 1 - versicolor\n",
      "Label 2 - virginica\n"
     ]
    }
   ],
   "source": [
    "for i in range(len(iris.target_names)):\n",
    "    print(\"Label\",i,\"-\",str(iris.target_names[i]))"
   ]
  },
  {
   "cell_type": "code",
   "execution_count": 43,
   "metadata": {},
   "outputs": [
    {
     "data": {
      "text/plain": [
       "KNeighborsClassifier(algorithm='auto', leaf_size=30, metric='minkowski',\n",
       "           metric_params=None, n_jobs=None, n_neighbors=1, p=2,\n",
       "           weights='uniform')"
      ]
     },
     "execution_count": 43,
     "metadata": {},
     "output_type": "execute_result"
    }
   ],
   "source": [
    "classifier=KNeighborsClassifier(n_neighbors=1)\n",
    "classifier.fit(x_train,y_train)"
   ]
  },
  {
   "cell_type": "code",
   "execution_count": 44,
   "metadata": {},
   "outputs": [
    {
     "name": "stdout",
     "output_type": "stream",
     "text": [
      "results of classification using knn with k=1\n",
      "sample: [6.2 2.8 4.8 1.8] actual table: 2 predicted label: 2\n",
      "classification accuracy 0.9333333333333333\n",
      "sample: [7.  3.2 4.7 1.4] actual table: 1 predicted label: 1\n",
      "classification accuracy 0.9333333333333333\n",
      "sample: [6.3 2.3 4.4 1.3] actual table: 1 predicted label: 1\n",
      "classification accuracy 0.9333333333333333\n",
      "sample: [4.4 3.  1.3 0.2] actual table: 0 predicted label: 0\n",
      "classification accuracy 0.9333333333333333\n",
      "sample: [4.9 2.5 4.5 1.7] actual table: 2 predicted label: 1\n",
      "classification accuracy 0.9333333333333333\n",
      "sample: [5.8 2.7 3.9 1.2] actual table: 1 predicted label: 1\n",
      "classification accuracy 0.9333333333333333\n",
      "sample: [5.6 3.  4.5 1.5] actual table: 1 predicted label: 1\n",
      "classification accuracy 0.9333333333333333\n",
      "sample: [7.2 3.6 6.1 2.5] actual table: 2 predicted label: 2\n",
      "classification accuracy 0.9333333333333333\n",
      "sample: [5.7 4.4 1.5 0.4] actual table: 0 predicted label: 0\n",
      "classification accuracy 0.9333333333333333\n",
      "sample: [5.2 3.5 1.5 0.2] actual table: 0 predicted label: 0\n",
      "classification accuracy 0.9333333333333333\n",
      "sample: [5.7 2.8 4.5 1.3] actual table: 1 predicted label: 1\n",
      "classification accuracy 0.9333333333333333\n",
      "sample: [5.5 2.6 4.4 1.2] actual table: 1 predicted label: 1\n",
      "classification accuracy 0.9333333333333333\n",
      "sample: [6.3 2.5 5.  1.9] actual table: 2 predicted label: 2\n",
      "classification accuracy 0.9333333333333333\n",
      "sample: [6.8 3.  5.5 2.1] actual table: 2 predicted label: 2\n",
      "classification accuracy 0.9333333333333333\n",
      "sample: [6.1 3.  4.6 1.4] actual table: 1 predicted label: 1\n",
      "classification accuracy 0.9333333333333333\n"
     ]
    }
   ],
   "source": [
    "y_pred=classifier.predict(x_test)\n",
    "print(\"results of classification using knn with k=1\")\n",
    "for r in range(0,len(x_test)):\n",
    "    print(\"sample:\",str(x_test[r]),\"actual table:\",str(y_test[r]),\"predicted label:\",str(y_pred[r]))\n",
    "    print(\"classification accuracy\",classifier.score(x_test,y_test))"
   ]
  },
  {
   "cell_type": "code",
   "execution_count": 45,
   "metadata": {},
   "outputs": [
    {
     "name": "stdout",
     "output_type": "stream",
     "text": [
      "[[3 0 0]\n",
      " [0 7 0]\n",
      " [0 1 4]]\n",
      "accuracy_matrix\n",
      "              precision    recall  f1-score   support\n",
      "\n",
      "           0       1.00      1.00      1.00         3\n",
      "           1       0.88      1.00      0.93         7\n",
      "           2       1.00      0.80      0.89         5\n",
      "\n",
      "   micro avg       0.93      0.93      0.93        15\n",
      "   macro avg       0.96      0.93      0.94        15\n",
      "weighted avg       0.94      0.93      0.93        15\n",
      "\n"
     ]
    }
   ],
   "source": [
    "from sklearn.metrics import classification_report,confusion_matrix\n",
    "print(confusion_matrix(y_test,y_pred))\n",
    "print(\"accuracy_matrix\")\n",
    "print(classification_report(y_test,y_pred))"
   ]
  },
  {
   "cell_type": "code",
   "execution_count": null,
   "metadata": {},
   "outputs": [],
   "source": []
  },
  {
   "cell_type": "code",
   "execution_count": null,
   "metadata": {},
   "outputs": [],
   "source": []
  }
 ],
 "metadata": {
  "kernelspec": {
   "display_name": "Python 3",
   "language": "python",
   "name": "python3"
  },
  "language_info": {
   "codemirror_mode": {
    "name": "ipython",
    "version": 3
   },
   "file_extension": ".py",
   "mimetype": "text/x-python",
   "name": "python",
   "nbconvert_exporter": "python",
   "pygments_lexer": "ipython3",
   "version": "3.7.2"
  }
 },
 "nbformat": 4,
 "nbformat_minor": 2
}
