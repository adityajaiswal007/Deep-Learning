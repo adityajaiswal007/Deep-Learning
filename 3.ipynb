{
 "cells": [
  {
   "cell_type": "code",
   "execution_count": 1,
   "metadata": {},
   "outputs": [],
   "source": [
    "import math\n",
    "import csv"
   ]
  },
  {
   "cell_type": "code",
   "execution_count": 2,
   "metadata": {},
   "outputs": [],
   "source": [
    "def load_csv(filename):\n",
    "    lines=csv.reader(open(filename,'r'))\n",
    "    dataset=list(lines)\n",
    "    headers=dataset.pop(0)\n",
    "    return dataset,headers"
   ]
  },
  {
   "cell_type": "code",
   "execution_count": 20,
   "metadata": {},
   "outputs": [],
   "source": [
    "class Node:\n",
    "    def __init__(self,attribute):\n",
    "        self.attribute=attribute\n",
    "        self.children=[]\n",
    "        self.answer=\"\"\n",
    "def subtables(data,col,delete):\n",
    "    dic={}\n",
    "    coldata=[row[col] for row in data]\n",
    "    attr=list(set(coldata))\n",
    "    for k in attr:\n",
    "        dic[k]=[]\n",
    "    for y in range(len(data)):\n",
    "        key=data[y][col]\n",
    "        if delete:\n",
    "            del data[y][col]\n",
    "        dic[key].append(data[y])\n",
    "    return attr,dic"
   ]
  },
  {
   "cell_type": "code",
   "execution_count": 21,
   "metadata": {},
   "outputs": [],
   "source": [
    "def entropy(S):\n",
    "    print(\"1\", S)\n",
    "    attr=list(set(S))\n",
    "    if len(attr)==1:\n",
    "        return 0\n",
    "    counts=[0,0]\n",
    "    for i in range(2):\n",
    "        counts[i]=sum([1 for x in S if attr[i]==x])/(len(S)*1.0)\n",
    "    sums=0\n",
    "    for cnt in counts:\n",
    "        sums+=-1*cnt*math.log(cnt,2)\n",
    "    return sums"
   ]
  },
  {
   "cell_type": "code",
   "execution_count": 5,
   "metadata": {},
   "outputs": [],
   "source": [
    "def compute_gain(data,col):\n",
    "    attValues,dic=subtables(data,col,delete=False)\n",
    "    total_entropy=entropy([row[-1] for row in data])\n",
    "    for x in range(len(attValues)):\n",
    "        ratio=len(dic[attValues[x]])/(len(data)*1.0)\n",
    "        entro=entropy([row[-1] for row in dic[attValues[x]]])\n",
    "        total_entropy-=ratio*entro\n",
    "    return total_entropy"
   ]
  },
  {
   "cell_type": "code",
   "execution_count": 6,
   "metadata": {},
   "outputs": [],
   "source": [
    "def build_tree(data,features):\n",
    "    lastcol=[row[-1] for row in data]\n",
    "    if(len(set(lastcol)))==1:\n",
    "        node=Node(\"\")\n",
    "        node.answer=lastcol[0]\n",
    "        return node\n",
    "    n=len(data[0])-1\n",
    "    gains=[compute_gain(data,col) for col in range(n)]\n",
    "    split=gains.index(max(gains))\n",
    "    node=Node(features[split])\n",
    "    fea=features[:split]+features[split+1:]\n",
    "    attr,dic=subtables(data,split,delete=True)\n",
    "    for x in range(len(attr)):\n",
    "        child=build_tree(dic[attr[x]],fea)\n",
    "        node.children.append((attr[x],child))\n",
    "    return node"
   ]
  },
  {
   "cell_type": "code",
   "execution_count": 7,
   "metadata": {},
   "outputs": [],
   "source": [
    "def print_tree(node,level):\n",
    "    if node.answer!=\"\":\n",
    "        print(\" \"*level,node.answer)\n",
    "        return\n",
    "    print(\" \"*level,node.attribute)\n",
    "    for value,n in node.children:\n",
    "        print(\" \"*(level+1),value)\n",
    "        print_tree(n,level+2)"
   ]
  },
  {
   "cell_type": "code",
   "execution_count": 8,
   "metadata": {},
   "outputs": [],
   "source": [
    "def classify(node,x_test,features):\n",
    "    if node.answer!=\"\":\n",
    "        print(node.answer)\n",
    "        return\n",
    "    pos=features.index(node.attribute)\n",
    "    for value,n in node.children:\n",
    "        if x_test[pos]==value:\n",
    "            classify(n,x_test,features)\n",
    "   "
   ]
  },
  {
   "cell_type": "code",
   "execution_count": 22,
   "metadata": {},
   "outputs": [
    {
     "name": "stdout",
     "output_type": "stream",
     "text": [
      "1 ['no', 'no', 'yes', 'yes', 'yes', 'no', 'yes', 'no', 'yes', 'yes', 'yes', 'yes', 'yes', 'no']\n",
      "1 ['yes', 'yes', 'no', 'yes', 'no']\n",
      "1 ['yes', 'yes', 'yes', 'yes']\n",
      "1 ['no', 'no', 'no', 'yes', 'yes']\n",
      "1 ['no', 'no', 'yes', 'yes', 'yes', 'no', 'yes', 'no', 'yes', 'yes', 'yes', 'yes', 'yes', 'no']\n",
      "1 ['yes', 'no', 'yes', 'yes']\n",
      "1 ['yes', 'no', 'yes', 'yes', 'yes', 'no']\n",
      "1 ['no', 'no', 'yes', 'yes']\n",
      "1 ['no', 'no', 'yes', 'yes', 'yes', 'no', 'yes', 'no', 'yes', 'yes', 'yes', 'yes', 'yes', 'no']\n",
      "1 ['no', 'no', 'yes', 'yes', 'no', 'yes', 'no']\n",
      "1 ['yes', 'no', 'yes', 'yes', 'yes', 'yes', 'yes']\n",
      "1 ['no', 'no', 'yes', 'yes', 'yes', 'no', 'yes', 'no', 'yes', 'yes', 'yes', 'yes', 'yes', 'no']\n",
      "1 ['no', 'yes', 'yes', 'yes', 'no', 'yes', 'yes', 'yes']\n",
      "1 ['no', 'no', 'yes', 'yes', 'yes', 'no']\n",
      "1 ['yes', 'yes', 'no', 'yes', 'no']\n",
      "1 ['yes', 'no']\n",
      "1 ['yes', 'yes', 'no']\n",
      "1 ['yes', 'yes', 'no', 'yes', 'no']\n",
      "1 ['yes', 'no']\n",
      "1 ['yes', 'no', 'yes']\n",
      "1 ['yes', 'yes', 'no', 'yes', 'no']\n",
      "1 ['yes', 'yes', 'yes']\n",
      "1 ['no', 'no']\n",
      "1 ['no', 'no', 'no', 'yes', 'yes']\n",
      "1 ['yes']\n",
      "1 ['no', 'yes']\n",
      "1 ['no', 'no']\n",
      "1 ['no', 'no', 'no', 'yes', 'yes']\n",
      "1 ['no', 'no', 'no']\n",
      "1 ['yes', 'yes']\n",
      "1 ['no', 'no', 'no', 'yes', 'yes']\n",
      "1 ['no', 'no', 'yes']\n",
      "1 ['no', 'yes']\n",
      " Outlook\n",
      "  rain\n",
      "   Wind\n",
      "    weak\n",
      "     yes\n",
      "    strong\n",
      "     no\n",
      "  overcast\n",
      "   yes\n",
      "  sunny\n",
      "   Humidity\n",
      "    high\n",
      "     no\n",
      "    normal\n",
      "     yes\n",
      "The test instance: ['rain', 'cool', 'normal', 'strong']\n",
      "The predictedlabel:no\n",
      "The test instance: ['sunny', 'mild', 'normal', 'strong']\n",
      "The predictedlabel:yes\n"
     ]
    }
   ],
   "source": [
    "dataset,features=load_csv(\"pg3.csv\")\n",
    "node=build_tree(dataset,features)\n",
    "print_tree(node,0)\n",
    "testdata,features=load_csv(\"pg3test.csv\")\n",
    "for xtest in testdata:\n",
    "    print(\"The test instance:\",xtest)\n",
    "    print(\"The predictedlabel:\",end=\"\")\n",
    "    classify(node,xtest,features)"
   ]
  },
  {
   "cell_type": "code",
   "execution_count": null,
   "metadata": {},
   "outputs": [],
   "source": []
  }
 ],
 "metadata": {
  "kernelspec": {
   "display_name": "Python 3",
   "language": "python",
   "name": "python3"
  },
  "language_info": {
   "codemirror_mode": {
    "name": "ipython",
    "version": 3
   },
   "file_extension": ".py",
   "mimetype": "text/x-python",
   "name": "python",
   "nbconvert_exporter": "python",
   "pygments_lexer": "ipython3",
   "version": "3.7.2"
  }
 },
 "nbformat": 4,
 "nbformat_minor": 2
}
